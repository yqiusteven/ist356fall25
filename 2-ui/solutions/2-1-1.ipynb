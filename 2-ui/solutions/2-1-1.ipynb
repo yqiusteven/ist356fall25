{
 "cells": [
  {
   "cell_type": "code",
   "execution_count": 2,
   "id": "fe2dd8a3",
   "metadata": {},
   "outputs": [
    {
     "data": {
      "application/vnd.jupyter.widget-view+json": {
       "model_id": "2a163a5770c049218570a2cbd4be337c",
       "version_major": 2,
       "version_minor": 0
      },
      "text/plain": [
       "interactive(children=(Text(value='', continuous_update=False, description='name'), Dropdown(description='major…"
      ]
     },
     "metadata": {},
     "output_type": "display_data"
    }
   ],
   "source": [
    "'''\n",
    "Let's create a simple widget interaction for display student status for their GPA:\n",
    "\n",
    "inputs:\n",
    "\n",
    "- student name\n",
    "- major: one of \"IMT\", \"IST\", or \"ADA\"\n",
    "- gpa between 0.0 and 4.0\n",
    "\n",
    "process:\n",
    "\n",
    "- when gpa < 1.8 then status is \"probation\"\n",
    "- when gpa > 3.4 then status is \"deans list\"\n",
    "- else status is \"no list\"\n",
    "\n",
    "output:\n",
    "\n",
    "- display the following statement:\n",
    "    \"NAME in MAJOR with GPA is on STATUS\"\n",
    "\n",
    "\n",
    "'''\n",
    "\n",
    "from IPython.display import display\n",
    "from ipywidgets import interact_manual\n",
    "\n",
    "\n",
    "@interact_manual(name = \"\", major = ['IMT', 'IST', 'ADA'], gpa = (0.0, 4.0, 0.01))\n",
    "def student_status(name, major, gpa):\n",
    "    if gpa < 1.8:\n",
    "        status = \"probation\"\n",
    "    elif gpa > 3.4:\n",
    "        status = \"deans list\"\n",
    "    else:\n",
    "        status = \"no list\"\n",
    "    print(f\"{name} in {major} with {gpa} is on {status}\")"
   ]
  }
 ],
 "metadata": {
  "kernelspec": {
   "display_name": "Python 3",
   "language": "python",
   "name": "python3"
  },
  "language_info": {
   "codemirror_mode": {
    "name": "ipython",
    "version": 3
   },
   "file_extension": ".py",
   "mimetype": "text/x-python",
   "name": "python",
   "nbconvert_exporter": "python",
   "pygments_lexer": "ipython3",
   "version": "3.11.0"
  }
 },
 "nbformat": 4,
 "nbformat_minor": 5
}
